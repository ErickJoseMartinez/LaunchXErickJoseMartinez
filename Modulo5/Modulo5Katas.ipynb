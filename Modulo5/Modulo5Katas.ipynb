{
 "cells": [
  {
   "cell_type": "markdown",
   "metadata": {},
   "source": [
    "## Ejercicio1 - \n",
    "Utilizar operadores aritméticos"
   ]
  },
  {
   "cell_type": "code",
   "execution_count": 1,
   "metadata": {},
   "outputs": [],
   "source": [
    "# Exploremos cómo podemos crear un programa que pueda calcular la distancia entre dos planetas.\n",
    "# Comenzaremos usando dos distancias de planetas: Tierra (149.597.870 km) y Júpiter (778.547.200 km).\n",
    "\n",
    "# Crear variables para almacenar las dos distancias\n",
    "# ¡Asegúrate de quitar las comas!\n",
    "\n",
    "distancia_jupiter = 778547200\n",
    "distancia_tierra = 149597870"
   ]
  },
  {
   "cell_type": "code",
   "execution_count": 2,
   "metadata": {},
   "outputs": [
    {
     "name": "stdout",
     "output_type": "stream",
     "text": [
      "390577533.93\n"
     ]
    }
   ],
   "source": [
    "#Con los valores obtenidos, es el momento de añadir el código para realizar la operación. \n",
    "# Restarás el primer planeta del segundo para determinar la distancia en kilómetros. \n",
    "# A continuación, puedes convertir la distancia del kilómetro en millas multiplicándola por 0.621.\n",
    "\n",
    "# Calcular la distancia entre planetas\n",
    "distancia_entre = (distancia_jupiter - distancia_tierra) * 0.621\n",
    "\n",
    "print(distancia_entre)"
   ]
  },
  {
   "cell_type": "markdown",
   "metadata": {},
   "source": [
    "## Ejercicio 2: \n",
    "Convierte cadenas en números y usa valores absolutos"
   ]
  },
  {
   "cell_type": "code",
   "execution_count": 7,
   "metadata": {},
   "outputs": [
    {
     "name": "stdout",
     "output_type": "stream",
     "text": [
      "10000000\n",
      "8654641321\n"
     ]
    }
   ],
   "source": [
    "# Usando input, agrega el código para leer la distancia del sol para cada planeta, considerando 2 planetas.\n",
    "\n",
    "# Almacenar las entradas del usuario\n",
    "#Pista: variable = input(\"¿Cuál es tu nombre?\")\n",
    "\n",
    "first_planet = int(input('Dame la distancia del primer planeta:'))\n",
    "second_planet = int(input('Dame la distancia del segundo planeta:'))\n",
    "\n",
    "print(first_planet)\n",
    "print(second_planet)"
   ]
  },
  {
   "cell_type": "code",
   "execution_count": 8,
   "metadata": {},
   "outputs": [
    {
     "name": "stdout",
     "output_type": "stream",
     "text": [
      "10000000\n",
      "8654641321\n"
     ]
    }
   ],
   "source": [
    "# Convierte las cadenas de ambos planetas a números enteros\n",
    "first_int_planet = int(first_planet)\n",
    "second_int_planet = int(second_planet)\n",
    "\n",
    "print(first_int_planet)\n",
    "print(second_int_planet)"
   ]
  },
  {
   "cell_type": "code",
   "execution_count": 9,
   "metadata": {},
   "outputs": [
    {
     "name": "stdout",
     "output_type": "stream",
     "text": [
      "8644641321\n",
      "5368322260.341\n"
     ]
    }
   ],
   "source": [
    "# Con los valores almacenados como números, ahora puedes agregar el código para realizar el cálculo, \n",
    "# restando el primer planeta del segundo. Debido a que el segundo planeta podría ser un número mayor, \n",
    "# usarás abs para convertirlo a un valor absoluto. También agregarás el código para mostrar \n",
    "# el resultado en millas multiplicando la distancia del kilómetro por 0.621\n",
    "# Realizar el cálculo y determinar el valor absoluto\n",
    "\n",
    "# Convertir de KM a Millas\n",
    "\n",
    "total_distance = abs(first_int_planet - second_int_planet)\n",
    "print(total_distance)\n",
    "total_distance_millas = float(total_distance * 0.621)\n",
    "\n",
    "print(total_distance_millas)"
   ]
  }
 ],
 "metadata": {
  "interpreter": {
   "hash": "8d24f2c3f172076644dc61f5472830a3725c5f8d376295ed6aeed129caa78c63"
  },
  "kernelspec": {
   "display_name": "Python 3.9.10 64-bit (windows store)",
   "language": "python",
   "name": "python3"
  },
  "language_info": {
   "codemirror_mode": {
    "name": "ipython",
    "version": 3
   },
   "file_extension": ".py",
   "mimetype": "text/x-python",
   "name": "python",
   "nbconvert_exporter": "python",
   "pygments_lexer": "ipython3",
   "version": "3.9.10"
  },
  "orig_nbformat": 4
 },
 "nbformat": 4,
 "nbformat_minor": 2
}
