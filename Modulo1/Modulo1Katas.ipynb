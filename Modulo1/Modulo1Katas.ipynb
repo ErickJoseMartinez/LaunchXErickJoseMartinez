{
 "cells": [
  {
   "cell_type": "markdown",
   "metadata": {},
   "source": [
    "## Un programa Python"
   ]
  },
  {
   "cell_type": "code",
   "execution_count": 52,
   "metadata": {},
   "outputs": [
    {
     "name": "stdout",
     "output_type": "stream",
     "text": [
      "Este programa suma dos números y muestra el resultado\n",
      "El resultado de la suma es: 3\n"
     ]
    }
   ],
   "source": [
    "## MARK.- Este programa suma dos número y pinta el resultado\n",
    "# program.py\n",
    "##MARK.- Info del programa\n",
    "print('Este programa suma dos números y muestra el resultado')\n",
    "## MARK.- Se suman los dos números.\n",
    "sum = 1 + 2\n",
    "## MARK.- Se pintan los números.\n",
    "print('El resultado de la suma es: ' + str(sum))"
   ]
  },
  {
   "cell_type": "markdown",
   "metadata": {},
   "source": [
    "## La función print()"
   ]
  },
  {
   "cell_type": "code",
   "execution_count": 53,
   "metadata": {},
   "outputs": [
    {
     "name": "stdout",
     "output_type": "stream",
     "text": [
      "Este programa muestra un mensaje resultado\n",
      "Hola desde la consola\n"
     ]
    }
   ],
   "source": [
    "## MARK.- Este programa muestra un mensaje\n",
    "## function_print.py\n",
    "##MARK.- Info del programa\n",
    "print('Este programa muestra un mensaje resultado')\n",
    "##MARK.- Mensaje\n",
    "print('Hola desde la consola')\n",
    "# Impresión en pantalla print('Hola desde la consola')"
   ]
  },
  {
   "cell_type": "markdown",
   "metadata": {},
   "source": [
    "## Variables"
   ]
  },
  {
   "cell_type": "code",
   "execution_count": 54,
   "metadata": {},
   "outputs": [
    {
     "name": "stdout",
     "output_type": "stream",
     "text": [
      "Este programa suma dos números, a la suma la multplica y posteriormente le suma 1 || El resultado es impreso\n",
      "El resultado de la de la operación es: 201\n"
     ]
    }
   ],
   "source": [
    "## MARK.- Este programa suma dos números, a la suma la multplica y posteriormente le suma 1 || El resultado es impreso\n",
    "# variables.py\n",
    "##MARK.- Info del programa\n",
    "print('Este programa suma dos números, a la suma la multplica y posteriormente le suma 1 || El resultado es impreso')\n",
    "## MARK.- Se suman los dos números.\n",
    "sum = 99 + 1 # 3\n",
    "## MARK.- Se realiza la multiplicación y suma.\n",
    "product = (sum * 2) + 1\n",
    "## MARK.- Se pintan el resultado.\n",
    "print('El resultado de la de la operación es: ' + str(product))"
   ]
  },
  {
   "cell_type": "markdown",
   "metadata": {},
   "source": [
    "## Tipos de datos"
   ]
  },
  {
   "cell_type": "code",
   "execution_count": 55,
   "metadata": {},
   "outputs": [
    {
     "name": "stdout",
     "output_type": "stream",
     "text": [
      "En este programa se ven algunos tipos de datos\n",
      "El tipo de dato de la variable distancia_a_alfa_centauri es: <class 'float'>\n"
     ]
    }
   ],
   "source": [
    "## MARK.- En este programa se ven algunos tipos de datos\n",
    "# types.py\n",
    "##MARK.- Info del programa\n",
    "print('En este programa se ven algunos tipos de datos')\n",
    "##MARK.- Este es un tipo de datos int\n",
    "planetas_en_el_sistema_solar = 8 # int, plutón era considerado un planeta pero ya es muy pequeño\n",
    "##MARK.- Este es un tipo de datos flotante o decimal\n",
    "distancia_a_alfa_centauri = 4.367 # float, años luz\n",
    "##MARK.- Este es un tipo de datos booleano\n",
    "puede_despegar = True\n",
    "##MARK.- Este es un tipo de datos string o caracter\n",
    "transbordador_que_aterrizo_en_la_luna = \"Apollo 11\" #string\n",
    "\n",
    "##MARK.- Se utiliza la funcion type para validar que tipo de datos es una variable\n",
    "type(distancia_a_alfa_centauri)\n",
    "\n",
    "print('El tipo de dato de la variable distancia_a_alfa_centauri es: ' + str(type(distancia_a_alfa_centauri)))"
   ]
  },
  {
   "cell_type": "markdown",
   "metadata": {},
   "source": [
    "## Operadores"
   ]
  },
  {
   "cell_type": "code",
   "execution_count": 56,
   "metadata": {},
   "outputs": [
    {
     "name": "stdout",
     "output_type": "stream",
     "text": [
      "Este programa se validan algunos operadores | Formula <left side> <operator> <right side>\n",
      "Operador de división \n",
      "Variable left_side 10 Variable right_side 5\n",
      "Resultado: 2.0\n"
     ]
    }
   ],
   "source": [
    "## MARK.- Este programa se validan algunos operadores.\n",
    "##MARK.- Info del programa \n",
    "print('Este programa se validan algunos operadores | Formula <left side> <operator> <right side>')\n",
    "##MARK.- Variable left_side\n",
    "left_side = 10\n",
    "##MARK.- Variable right side\n",
    "right_side = 5\n",
    "##MARK.- Salida del Operador de División /\n",
    "left_side / right_side # 2\n",
    "\n",
    "print('Operador de división \\nVariable left_side ' + str(left_side) + ' Variable right_side ' + str(right_side))\n",
    "print('Resultado: ' + str(left_side / right_side))"
   ]
  },
  {
   "cell_type": "markdown",
   "metadata": {},
   "source": [
    "Operadores aritméticos"
   ]
  },
  {
   "cell_type": "code",
   "execution_count": 57,
   "metadata": {},
   "outputs": [
    {
     "name": "stdout",
     "output_type": "stream",
     "text": [
      "Este programa se revisan los operadores de asignación\n",
      "El operador de suma es + \n",
      "El operador de suma es - \n",
      "El operador de suma es / \n",
      "El operador de suma es * \n"
     ]
    }
   ],
   "source": [
    "## MARK.- Este programa se revisan los operadores de asignación\n",
    "# asignacion.py\n",
    "##MARK.- Info del programa\n",
    "print('Este programa se revisan los operadores de asignación')\n",
    "\n",
    "##MARK.- Operador de suma\n",
    "print('El operador de suma es + ')\n",
    "##MARK.- Operador de resta\n",
    "print('El operador de suma es - ')\n",
    "##MARK.- Operador de division\n",
    "print('El operador de suma es / ')\n",
    "##MARK.- Operador de multiplicacion\n",
    "print('El operador de suma es * ')"
   ]
  },
  {
   "cell_type": "markdown",
   "metadata": {},
   "source": [
    "## Fechas"
   ]
  },
  {
   "cell_type": "code",
   "execution_count": 58,
   "metadata": {},
   "outputs": [
    {
     "name": "stdout",
     "output_type": "stream",
     "text": [
      "Este programa se revisan fechas\n",
      "2022-02-09\n",
      "Today's date is: 2022-02-09\n"
     ]
    }
   ],
   "source": [
    "## MARK.- Este programa se revisan fechas\n",
    "# dates.py\n",
    "##MARK.- Info del programa\n",
    "print('Este programa se revisan fechas')\n",
    "\n",
    "##MARK.- Importación del módulo de fechas.\n",
    "from datetime import date\n",
    "\n",
    "##MARK.- Se obtiene e imprime el día actual.\n",
    "print(date.today())\n",
    "\n",
    "##MARK.- Se obtiene e imprime el día actual concatenando una cadena.\n",
    "print(\"Today's date is: \" + str(date.today()))"
   ]
  },
  {
   "cell_type": "markdown",
   "metadata": {},
   "source": [
    "## Inputs"
   ]
  },
  {
   "cell_type": "code",
   "execution_count": 59,
   "metadata": {},
   "outputs": [
    {
     "name": "stdout",
     "output_type": "stream",
     "text": [
      "Este programa hace calculos a partir de datos solicitados al usuario.\n",
      "Calculadora\n",
      "8\n"
     ]
    }
   ],
   "source": [
    "## MARK.- Este programa hace calculos a partir de datos solicitados al usuario.\n",
    "# calc.py\n",
    "##MARK.- Info del programa\n",
    "print('Este programa hace calculos a partir de datos solicitados al usuario.')\n",
    "\n",
    "print(\"Calculadora\")\n",
    "##MARK.- Se solicita el primer número.\n",
    "first_number = input(\"Primer número: \")\n",
    "##MARK.- Se solicita el segundo número.\n",
    "second_number = input(\"Segundo número: \")\n",
    "##MARK.- Se pinta la suma solicitada del usuario.\n",
    "print(int(first_number) + int(second_number))"
   ]
  },
  {
   "cell_type": "markdown",
   "metadata": {},
   "source": [
    "Tu primer programa"
   ]
  },
  {
   "cell_type": "code",
   "execution_count": 60,
   "metadata": {},
   "outputs": [
    {
     "name": "stdout",
     "output_type": "stream",
     "text": [
      "Today's date is: 2022-02-09\n"
     ]
    }
   ],
   "source": [
    "from datetime import date\n",
    "## print(\"Today's date is: \") --> Extracción de la fecha y su conversión a string\n",
    "print(\"Today's date is: \" + str(date.today()))"
   ]
  },
  {
   "cell_type": "markdown",
   "metadata": {},
   "source": [
    "Construir un convertidor de unidades"
   ]
  },
  {
   "cell_type": "code",
   "execution_count": 61,
   "metadata": {},
   "outputs": [
    {
     "name": "stdout",
     "output_type": "stream",
     "text": [
      "11 parsec, is 35.877159999999996 lightyears\n"
     ]
    }
   ],
   "source": [
    "#Variables\n",
    "parsec = 11\n",
    "## [!TIP] 1 parsec es 3.26156 años luz. Utiliza el operador de multiplicación.\n",
    "lightyears = 3.26156\n",
    "##Se muestra el resultado de la conversión de parsec a años luz.\n",
    "print(str(parsec) + \" parsec, is \" + str(lightyears * parsec) + \" lightyears\")"
   ]
  }
 ],
 "metadata": {
  "interpreter": {
   "hash": "57baa5815c940fdaff4d14510622de9616cae602444507ba5d0b6727c008cbd6"
  },
  "kernelspec": {
   "display_name": "Python 3.7.8 64-bit",
   "language": "python",
   "name": "python3"
  },
  "language_info": {
   "codemirror_mode": {
    "name": "ipython",
    "version": 3
   },
   "file_extension": ".py",
   "mimetype": "text/x-python",
   "name": "python",
   "nbconvert_exporter": "python",
   "pygments_lexer": "ipython3",
   "version": "3.7.8"
  },
  "orig_nbformat": 4
 },
 "nbformat": 4,
 "nbformat_minor": 2
}
