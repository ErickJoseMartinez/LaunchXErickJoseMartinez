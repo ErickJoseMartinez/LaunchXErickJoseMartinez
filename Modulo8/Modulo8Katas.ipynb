{
 "cells": [
  {
   "cell_type": "markdown",
   "metadata": {},
   "source": [
    "## Ejercicio 1: \n",
    "Creación de diccionarios de Python"
   ]
  },
  {
   "cell_type": "code",
   "execution_count": 21,
   "metadata": {},
   "outputs": [],
   "source": [
    "#Agrega el código para crear un nuevo diccionario denominado 'planet'. Rellena con la siguiente información:\n",
    "\n",
    "#name: Mars\n",
    "#moons: 2\n",
    "\n",
    "planet = {\n",
    "    'name': 'Mars',\n",
    "    'moons': 2\n",
    "}\n",
    "\n"
   ]
  },
  {
   "cell_type": "code",
   "execution_count": 22,
   "metadata": {},
   "outputs": [
    {
     "name": "stdout",
     "output_type": "stream",
     "text": [
      "Mars\n",
      "2\n",
      "El planeta Mars tiene 2 luna|s\n"
     ]
    }
   ],
   "source": [
    "# Para recuperar valores, puede utilizar el método get o corchetes ([ ]) con el nombre de la clave que desea recuperar.\n",
    "\n",
    "# Muestra el nombre del planeta y el número de lunas que tiene.\n",
    "print(planet.get('name'))\n",
    "print(planet.get('moons'))\n",
    "print(f\"El planeta {planet.get('name')} tiene {planet.get('moons')} luna|s\")"
   ]
  },
  {
   "cell_type": "code",
   "execution_count": 23,
   "metadata": {},
   "outputs": [
    {
     "name": "stdout",
     "output_type": "stream",
     "text": [
      "{'name': 'Mars', 'moons': 2, 'circumference (km)': {'polar': 6752, 'equatorial': 6792}}\n"
     ]
    }
   ],
   "source": [
    "# Agrega un nuevo valor con una clave de 'circunferencia (km)'. \n",
    "# Este nuevo valor debería almacenar un diccionario con las dos circunferencias del planeta:\n",
    "\n",
    "#polar: 6752\n",
    "#equatorial: 6792\n",
    "\n",
    "planet['circumference (km)'] = {\n",
    "    'polar': 6752,\n",
    "    'equatorial': 6792\n",
    "}\n",
    "print(planet)"
   ]
  },
  {
   "cell_type": "code",
   "execution_count": 24,
   "metadata": {},
   "outputs": [
    {
     "name": "stdout",
     "output_type": "stream",
     "text": [
      "El planeta Mars tiene circunferencia polar: 6752\n"
     ]
    }
   ],
   "source": [
    "# Imprime el nombre del planeta con su circunferencia polar.\n",
    "print(f\"\"\"El planeta {planet['name']} tiene circunferencia polar: {planet['circumference (km)']['polar']}\"\"\")"
   ]
  },
  {
   "cell_type": "markdown",
   "metadata": {},
   "source": [
    "## Ejercicio 2: Programación dinámica con diccionarios\n",
    "Ejercicio: Cálculo de valores"
   ]
  },
  {
   "cell_type": "code",
   "execution_count": 25,
   "metadata": {},
   "outputs": [
    {
     "name": "stdout",
     "output_type": "stream",
     "text": [
      "12\n"
     ]
    }
   ],
   "source": [
    "# En este escenario, calcularás tanto el número total de lunas en el sistema solar como \n",
    "# el número promedio de lunas que tiene un planeta.\n",
    "\n",
    "planet_moons = {\n",
    "    'mercury': 0,\n",
    "    'venus': 0,\n",
    "    'earth': 1,\n",
    "    'mars': 2,\n",
    "    'jupiter': 79,\n",
    "    'saturn': 82,\n",
    "    'uranus': 27,\n",
    "    'neptune': 14,\n",
    "    'pluto': 5,\n",
    "    'haumea': 2,\n",
    "    'makemake': 1,\n",
    "    'eris': 1\n",
    "}"
   ]
  },
  {
   "cell_type": "code",
   "execution_count": 33,
   "metadata": {},
   "outputs": [
    {
     "name": "stdout",
     "output_type": "stream",
     "text": [
      "El número total de planetas son 12\n"
     ]
    }
   ],
   "source": [
    "# Añade el código para determinar el número de lunas.\n",
    "# Agrega el código a continuación para determinar el número de lunas. \n",
    "# 1.- Comienza almacenando el valor values de planet_moons en una variable denominada moons. \n",
    "# A continuación, almacena el número de planetas en una variable denominada planets.\n",
    "\n",
    "#MARK.- 1.- Listado de lunas.\n",
    "moons = planet_moons.values()\n",
    "\n",
    "#MARK.- El total de planetas.\n",
    "print(f\"El número total de planetas son {len(planet_moons)}\")"
   ]
  },
  {
   "cell_type": "code",
   "execution_count": 34,
   "metadata": {},
   "outputs": [
    {
     "name": "stdout",
     "output_type": "stream",
     "text": [
      "El promedio de lunas son 17.833333333333332\n"
     ]
    }
   ],
   "source": [
    "# Agrega el código para contar el número de lunas. \n",
    "# Puedes hacerlo creando un ciclo for para iterar a través de las lunas moons y \n",
    "# agregándolos a una variable denominada total_moons. Finalmente calcule el promedio \n",
    "# dividiendo total_moons por planets e imprimiendo los resultados.\n",
    "\n",
    "# Agrega el código para contar el número de lunas. \n",
    "total_moons = 0\n",
    "\n",
    "for row in moons:\n",
    "    total_moons += row\n",
    "\n",
    "print(f\"El promedio de lunas son {total_moons/len(planet_moons)}\")\n"
   ]
  }
 ],
 "metadata": {
  "interpreter": {
   "hash": "8d24f2c3f172076644dc61f5472830a3725c5f8d376295ed6aeed129caa78c63"
  },
  "kernelspec": {
   "display_name": "Python 3.9.10 64-bit (windows store)",
   "language": "python",
   "name": "python3"
  },
  "language_info": {
   "codemirror_mode": {
    "name": "ipython",
    "version": 3
   },
   "file_extension": ".py",
   "mimetype": "text/x-python",
   "name": "python",
   "nbconvert_exporter": "python",
   "pygments_lexer": "ipython3",
   "version": "3.9.10"
  },
  "orig_nbformat": 4
 },
 "nbformat": 4,
 "nbformat_minor": 2
}
