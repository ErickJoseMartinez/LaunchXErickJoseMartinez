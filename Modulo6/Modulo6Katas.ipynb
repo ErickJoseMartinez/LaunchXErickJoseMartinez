{
 "cells": [
  {
   "cell_type": "markdown",
   "metadata": {},
   "source": [
    "## Ejercicio1: \n",
    "Crear y usar listas de Python"
   ]
  },
  {
   "cell_type": "code",
   "execution_count": 3,
   "metadata": {},
   "outputs": [
    {
     "data": {
      "text/plain": [
       "['Mercurio',\n",
       " 'Venus',\n",
       " 'Tierra',\n",
       " 'Marte',\n",
       " 'Jupiter',\n",
       " 'Saturno',\n",
       " 'Urano',\n",
       " 'Neptuno']"
      ]
     },
     "execution_count": 3,
     "metadata": {},
     "output_type": "execute_result"
    }
   ],
   "source": [
    "#En primer lugar, crea una variable denominada planets. Agrega los ocho planetas (sin Plutón) a la lista.\n",
    "#  A continuación, muestra el número de planetas.\n",
    "# Creamos la lista planets y la mostramos\n",
    "\n",
    "planets = ['Mercurio', 'Venus', 'Tierra', 'Marte', 'Jupiter', 'Saturno', 'Urano', 'Neptuno']\n",
    "planets"
   ]
  },
  {
   "cell_type": "code",
   "execution_count": 4,
   "metadata": {},
   "outputs": [
    {
     "name": "stdout",
     "output_type": "stream",
     "text": [
      "El número de planetas son: 9\n",
      "El último planeta es: Pluton\n"
     ]
    }
   ],
   "source": [
    "# Agrega a Plutón a la lista que creaste. \n",
    "# Luego muestra tanto el número de planetas como el último planeta de la lista.\n",
    "\n",
    "# Agregamos a plutón y mostramos el último elemento\n",
    "planets.append('Pluton')\n",
    "print(f'El número de planetas son: {len(planets)}')\n",
    "print(f'El último planeta es: {planets[-1]}')"
   ]
  },
  {
   "cell_type": "markdown",
   "metadata": {},
   "source": [
    "## Ejercicio 2: \n",
    "Trabajando con datos de una lista"
   ]
  },
  {
   "cell_type": "code",
   "execution_count": 5,
   "metadata": {},
   "outputs": [],
   "source": [
    "# Comienza agregando el código para crear una lista con los planetas.\n",
    "\n",
    "# Lista de planetas\n",
    "planets = ['Mercury', 'Venus', 'Earth', 'Mars', 'Jupiter', 'Saturn', 'Neptune']"
   ]
  },
  {
   "cell_type": "code",
   "execution_count": 6,
   "metadata": {},
   "outputs": [
    {
     "data": {
      "text/plain": [
       "'Mercury'"
      ]
     },
     "execution_count": 6,
     "metadata": {},
     "output_type": "execute_result"
    }
   ],
   "source": [
    "# A continuación, agrega el código para solicitar al usuario un nombre. \n",
    "# Debido a que las cadenas distinguen entre mayúsculas y minúsculas en Python, \n",
    "# pídale al usuario que use una letra mayúscula para comenzar el nombre del planeta.\n",
    "\n",
    "# Solicitamos el nombre de un planeta *Pista:  input()*\n",
    "\n",
    "planet_by_user = input(str('Favor de brindarme el nombre de un planeta empezando con la letra mayuscula'))\n",
    "planet_by_user"
   ]
  },
  {
   "cell_type": "code",
   "execution_count": 7,
   "metadata": {},
   "outputs": [
    {
     "data": {
      "text/plain": [
       "0"
      ]
     },
     "execution_count": 7,
     "metadata": {},
     "output_type": "execute_result"
    }
   ],
   "source": [
    "# Para determinar qué planetas están más cerca que el que ingresó el usuario, \n",
    "# debes encontrar dónde está el planeta en la lista. Puedes utilizar index para realizar esta operación. \n",
    "# Agrega el código para encontrar el índice del planeta.\n",
    "\n",
    "# Busca el planeta en la lista\n",
    "planet_by_id = planets.index(planet_by_user)\n",
    "planet_by_id"
   ]
  },
  {
   "cell_type": "code",
   "execution_count": 8,
   "metadata": {},
   "outputs": [
    {
     "name": "stdout",
     "output_type": "stream",
     "text": [
      "Los planetas más cercanos respecto al planeta que mencionas son: []\n"
     ]
    }
   ],
   "source": [
    "# Con el índice determinado, ahora puedes agregar el código para mostrar los \n",
    "# planetas más cercanos al sol.\n",
    "\n",
    "# Muestra los planetas más cercanos al sol\n",
    "\n",
    "planet_slice = planets[0:planet_by_id]\n",
    "print(f'Los planetas más cercanos respecto al planeta que mencionas son: {planet_slice}')"
   ]
  },
  {
   "cell_type": "code",
   "execution_count": 9,
   "metadata": {},
   "outputs": [
    {
     "name": "stdout",
     "output_type": "stream",
     "text": [
      "Los planetas más alejados respecto al planeta que mencionas son: ['Venus', 'Earth', 'Mars', 'Jupiter', 'Saturn', 'Neptune']\n"
     ]
    }
   ],
   "source": [
    "# Puedes usar el mismo índice para mostrar planetas más alejados del sol. \n",
    "# Sin embargo, recuerda que el índice inicial se incluye cuando usas un slice. \n",
    "# Como resultado, tendrás que agregar 1 al valor. Agrega el código para mostrar los planetas más alejados del sol.\n",
    "\n",
    "# Muestra los planetas más lejanos al sol\n",
    "\n",
    "planet_slice = planets[planet_by_id + 1 :]\n",
    "print(f'Los planetas más alejados respecto al planeta que mencionas son: {planet_slice}')"
   ]
  }
 ],
 "metadata": {
  "interpreter": {
   "hash": "8d24f2c3f172076644dc61f5472830a3725c5f8d376295ed6aeed129caa78c63"
  },
  "kernelspec": {
   "display_name": "Python 3.9.10 64-bit (windows store)",
   "language": "python",
   "name": "python3"
  },
  "language_info": {
   "codemirror_mode": {
    "name": "ipython",
    "version": 3
   },
   "file_extension": ".py",
   "mimetype": "text/x-python",
   "name": "python",
   "nbconvert_exporter": "python",
   "pygments_lexer": "ipython3",
   "version": "3.9.5"
  },
  "orig_nbformat": 4
 },
 "nbformat": 4,
 "nbformat_minor": 2
}
