{
 "cells": [
  {
   "cell_type": "markdown",
   "metadata": {},
   "source": [
    "## Ejercicio: Uso de funciones en Python\n",
    "Ejercicio 1: Trabajar con argumentos en funciones"
   ]
  },
  {
   "cell_type": "code",
   "execution_count": 3,
   "metadata": {},
   "outputs": [
    {
     "data": {
      "text/plain": [
       "'De los siguientes tanques:\\n    Lancer: 50\\n    Civic: 60\\n    Mazda: 40\\n    El promedio de los tanques es: 50.0'"
      ]
     },
     "execution_count": 3,
     "metadata": {},
     "output_type": "execute_result"
    }
   ],
   "source": [
    "# Comienza por crear una función que necesite tres lecturas de combustible y devuelva un informe:\n",
    "# Función para leer 3 tanques de combustible y muestre el promedio\n",
    "\n",
    "def promedioTanques(lancer_tanque, civic_tanque, mazda_tanque):\n",
    "    promedio = (float(lancer_tanque) + float(civic_tanque) + float(mazda_tanque))/3\n",
    "    return f\"\"\"De los siguientes tanques:\n",
    "    Lancer: {lancer_tanque}\n",
    "    Civic: {civic_tanque}\n",
    "    Mazda: {mazda_tanque}\n",
    "    El promedio de los tanques es: {promedio}\"\"\"\n",
    "\n",
    "promedioTanques(50,60,40)\n"
   ]
  },
  {
   "cell_type": "code",
   "execution_count": 4,
   "metadata": {},
   "outputs": [
    {
     "name": "stdout",
     "output_type": "stream",
     "text": [
      "De los siguientes tanques:\n",
      "    Lancer: 30\n",
      "    Civic: 40\n",
      "    Mazda: 20\n",
      "    El promedio de los tanques es: 30.0\n"
     ]
    }
   ],
   "source": [
    "#Ahora que hemos definido la función de informes, vamos a comprobarlo. Para esta misión, los tanques no están llenos:\n",
    "# Llamamos a la función que genera el reporte print(funcion(tanque1, tanque2, tanque3))\n",
    "\n",
    "print(promedioTanques(30,40,20))"
   ]
  },
  {
   "cell_type": "code",
   "execution_count": 7,
   "metadata": {},
   "outputs": [
    {
     "name": "stdout",
     "output_type": "stream",
     "text": [
      "El promedio de los siguientes tanques es: 30.0\n"
     ]
    }
   ],
   "source": [
    "# En lugar de simplemente crear el informe, la función también está calculando el promedio. \n",
    "# Mejora la legibilidad extrayendo el cálculo promedio de la función en una nueva función \n",
    "# para que el promedio se pueda hacer de forma independiente:\n",
    "# Función promedio \n",
    "\n",
    "def promedio(tanque):\n",
    "    suma_tanques = sum(tanque)\n",
    "    tanques_totales = len(tanque)\n",
    "    prom = float(suma_tanques/tanques_totales)\n",
    "    return prom\n",
    "\n",
    "print(f\"\"\"El promedio de los siguientes tanques es: {promedio([30,40,20])}\"\"\")"
   ]
  },
  {
   "cell_type": "code",
   "execution_count": 10,
   "metadata": {},
   "outputs": [
    {
     "name": "stdout",
     "output_type": "stream",
     "text": [
      "De los siguientes tanques:\n",
      "    Lancer: 30\n",
      "    Civic: 40\n",
      "    Mazda: 20\n",
      "    El promedio de los tanques es: 30.0\n"
     ]
    }
   ],
   "source": [
    "# Ahora actualiza la función de informes para llamando a la nueva función del promedio:\n",
    "# Actualiza la función\n",
    "def promedioTanques(lancer_tanque, civic_tanque, mazda_tanque):\n",
    "    return f\"\"\"De los siguientes tanques:\n",
    "    Lancer: {lancer_tanque}\n",
    "    Civic: {civic_tanque}\n",
    "    Mazda: {mazda_tanque}\n",
    "    El promedio de los tanques es: {promedio([lancer_tanque,civic_tanque,mazda_tanque])}\"\"\"\n",
    "\n",
    "print(promedioTanques(30,40,20))"
   ]
  },
  {
   "cell_type": "markdown",
   "metadata": {},
   "source": [
    "## Ejercicio 2: Trabajo con argumentos de palabra clave\n",
    "Ejercicio : Trabajar con argumentos de palabras clave en funciones"
   ]
  },
  {
   "cell_type": "code",
   "execution_count": 13,
   "metadata": {},
   "outputs": [
    {
     "name": "stdout",
     "output_type": "stream",
     "text": [
      "INFORME DE LA MISIÓN\n",
      "    Hora de Prelanzamiento: 10\n",
      "    Tiempo de vuelo: 100\n",
      "    Destino: Marte\n",
      "    Tanque Externo 100\n",
      "    Tanque Interno 10\n",
      "    Combustible Total: 110\n"
     ]
    }
   ],
   "source": [
    "# Función con un informe preciso de la misión. Considera hora de prelanzamiento, \n",
    "# tiempo de vuelo, destino, tanque externo y tanque interno\n",
    "\n",
    "def informe_mision(hora_prelanzamiento, tiempo_vuelo, destino, tanque_externo, tanque_interno):\n",
    "    return f\"\"\"INFORME DE LA MISIÓN\n",
    "    Hora de Prelanzamiento: {hora_prelanzamiento}\n",
    "    Tiempo de vuelo: {tiempo_vuelo}\n",
    "    Destino: {destino}\n",
    "    Tanque Externo {tanque_externo}\n",
    "    Tanque Interno {tanque_interno}\n",
    "    Combustible Total: {tanque_externo + tanque_interno}\"\"\"\n",
    "\n",
    "print(informe_mision(10,100,'Marte', 100, 10))"
   ]
  },
  {
   "cell_type": "code",
   "execution_count": 16,
   "metadata": {},
   "outputs": [
    {
     "name": "stdout",
     "output_type": "stream",
     "text": [
      "INFORME DE LA MISIÓN\n",
      "    Tiempo de vuelo: 1000\n",
      "    Destino: Marte\n",
      "    Combustible Total: 110\n"
     ]
    }
   ],
   "source": [
    "# Asegurate que la función sea más legible mediante el uso de nombres de variables \n",
    "# que están asociados con las entradas, como *minutes y **fuel_reservoirs\n",
    "# Escribe tu nueva función de reporte considerando lo anterior\n",
    "\n",
    "def informe_mision(destino, *minutes, **fuel_reservoirs):\n",
    "    return f\"\"\"INFORME DE LA MISIÓN\n",
    "    Tiempo de vuelo: {sum(minutes)}\n",
    "    Destino: {destino}\n",
    "    Combustible Total: {sum(fuel_reservoirs.values())}\"\"\"\n",
    "\n",
    "print(informe_mision('Marte', 1000 ,externo=100, interno=10))"
   ]
  },
  {
   "cell_type": "code",
   "execution_count": 25,
   "metadata": {},
   "outputs": [
    {
     "name": "stdout",
     "output_type": "stream",
     "text": [
      "***INFORME DE LA MISIÓN***\n",
      "Tiempo de vuelo: 1000\n",
      "Destino: Marte\n",
      "Combustible Total: 110\n",
      "Los tanques son los siguientes:\n",
      "Tanque: externo, con un total de: 100\n",
      "Tanque: interno, con un total de: 10\n",
      "\n"
     ]
    }
   ],
   "source": [
    "# Debido a que el combustible que queda en los tanques es específico de cada tanque, \n",
    "# actualiza la función para usar el nombre de cada tanque en el informe:\n",
    "\n",
    "# Escribe tu nueva función\n",
    "def informe_mision(destino, *minutes, **fuel_reservoirs):\n",
    "    reporte = f\"\"\"***INFORME DE LA MISIÓN***\n",
    "Tiempo de vuelo: {sum(minutes)}\n",
    "Destino: {destino}\n",
    "Combustible Total: {sum(fuel_reservoirs.values())}\n",
    "Los tanques son los siguientes:\\n\"\"\"\n",
    "    for name, fuel in fuel_reservoirs.items():\n",
    "        reporte += f\"\"\"Tanque: {name}, con un total de: {fuel}\\n\"\"\"\n",
    "    return reporte\n",
    "\n",
    "print(informe_mision('Marte', 1000 ,externo=100, interno=10))\n"
   ]
  }
 ],
 "metadata": {
  "interpreter": {
   "hash": "8d24f2c3f172076644dc61f5472830a3725c5f8d376295ed6aeed129caa78c63"
  },
  "kernelspec": {
   "display_name": "Python 3.9.10 64-bit (windows store)",
   "language": "python",
   "name": "python3"
  },
  "language_info": {
   "codemirror_mode": {
    "name": "ipython",
    "version": 3
   },
   "file_extension": ".py",
   "mimetype": "text/x-python",
   "name": "python",
   "nbconvert_exporter": "python",
   "pygments_lexer": "ipython3",
   "version": "3.9.10"
  },
  "orig_nbformat": 4
 },
 "nbformat": 4,
 "nbformat_minor": 2
}
