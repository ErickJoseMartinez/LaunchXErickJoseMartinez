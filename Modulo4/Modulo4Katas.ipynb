{
 "cells": [
  {
   "cell_type": "markdown",
   "metadata": {},
   "source": [
    "## Ejercicio 1: \n",
    "Transformar cadenas"
   ]
  },
  {
   "cell_type": "code",
   "execution_count": 56,
   "metadata": {},
   "outputs": [],
   "source": [
    "##MARK.- Este ejercicio se transformará la cadena principal.\n",
    "##MARK.- Cadena\n",
    "text = \"\"\"Interesting facts about the Moon. The Moon is Earth's only satellite. There are several interesting facts about the Moon and how it affects life here on Earth. \n",
    "On average, the Moon moves 4cm away from the Earth every year. This yearly drift is not significant enough to cause immediate effects on Earth. The highest daylight temperature of the Moon is 127 C.\"\"\""
   ]
  },
  {
   "cell_type": "code",
   "execution_count": 57,
   "metadata": {},
   "outputs": [
    {
     "name": "stdout",
     "output_type": "stream",
     "text": [
      "['Interesting facts about the Moon', \" The Moon is Earth's only satellite\", ' There are several interesting facts about the Moon and how it affects life here on Earth', ' \\nOn average, the Moon moves 4cm away from the Earth every year', ' This yearly drift is not significant enough to cause immediate effects on Earth', ' The highest daylight temperature of the Moon is 127 C', '']\n"
     ]
    }
   ],
   "source": [
    "# Primero, divide el texto en cada oración para trabajar con su contenido:\n",
    "text_dividido = text.split('.')\n",
    "print(text_dividido)"
   ]
  },
  {
   "cell_type": "code",
   "execution_count": 58,
   "metadata": {},
   "outputs": [],
   "source": [
    "#Ahora, define algunas palabras clave para búsqueda que te ayudarán a determinar si una oración contiene un hecho.\n",
    "# Define las palabras pista: average, temperature y distance suenan bien\n",
    "words = ['average', 'temperature', 'distance']"
   ]
  },
  {
   "cell_type": "code",
   "execution_count": 59,
   "metadata": {},
   "outputs": [
    {
     "name": "stdout",
     "output_type": "stream",
     "text": [
      " \n",
      "On average, the Moon moves 4cm away from the Earth every year\n",
      " The highest daylight temperature of the Moon is 127 C\n"
     ]
    }
   ],
   "source": [
    "#Cree un bucle para imprimir solo datos sobre la Luna que estén relacionados con las palabras clave definidas \n",
    "# anteriormente:\n",
    "# Ciclo for para recorrer la cadena\n",
    "\n",
    "for sentence in text.split('.'):\n",
    "    for word in words:\n",
    "        if word in sentence:\n",
    "            print(sentence)"
   ]
  },
  {
   "cell_type": "code",
   "execution_count": 60,
   "metadata": {},
   "outputs": [
    {
     "name": "stdout",
     "output_type": "stream",
     "text": [
      " The highest daylight temperature of the Moon is 127 °Celsius\n"
     ]
    }
   ],
   "source": [
    "#Finalmente, actualiza el bucle(ciclo) para cambiar C a Celsius:\n",
    "# Ciclo para cambiar C a Celsius\n",
    "temperature = ['C']\n",
    "for sentence in text.split('.'):\n",
    "    for word in temperature:\n",
    "        if word in sentence:\n",
    "            print(sentence.replace('C','°Celsius'))"
   ]
  },
  {
   "cell_type": "markdown",
   "metadata": {},
   "source": [
    "## Ejercicio 2: \n",
    "Formateando Cadenas"
   ]
  },
  {
   "cell_type": "code",
   "execution_count": 61,
   "metadata": {},
   "outputs": [],
   "source": [
    "#En lugar de reemplazar las variables en una cadena larga como parte de un párrafo, utiliza la información para \n",
    "# presentarla en un formato tabular. El resultado debería verse así:\n",
    "\n",
    "#Gravity Facts about Ganymede\n",
    "#-------------------------------------------------------------------------------\n",
    "#Planet Name: Mars\n",
    "#Gravity on Ganymede: 1.4300000000000002 m/s2\n",
    "\n",
    "# Datos con los que vas a trabajar\n",
    "name = \"Moon\"\n",
    "gravity = 0.00162 # in kms\n",
    "planet = \"Earth\""
   ]
  },
  {
   "cell_type": "code",
   "execution_count": 62,
   "metadata": {},
   "outputs": [
    {
     "name": "stdout",
     "output_type": "stream",
     "text": [
      "Gravity Facts about Moon\n",
      "-------------------------------------------------------------------------------\n"
     ]
    }
   ],
   "source": [
    "# Primero, crea un título para el texto. Debido a que este texto trata sobre la gravedad en \n",
    "# la Tierra y la Luna, úsalo para crear un título significativo. Utiliza las variables en lugar de escribir.\n",
    "\n",
    "gravity_title = f'''Gravity Facts about {name}\n",
    "-------------------------------------------------------------------------------'''\n",
    "print(gravity_title)"
   ]
  },
  {
   "cell_type": "code",
   "execution_count": 63,
   "metadata": {},
   "outputs": [
    {
     "name": "stdout",
     "output_type": "stream",
     "text": [
      "Planet Name: Earth\n",
      "Gravity on Moon: 1.6199999999999999 m/s2\n"
     ]
    }
   ],
   "source": [
    "# Ahora crea una plantilla de cadena multilínea para contener el resto de la información. \n",
    "# En lugar de usar kilómetros, debes convertir la distancia a metros multiplicando por 1,000.\n",
    "\n",
    "template = f'''Planet Name: {planet}\n",
    "Gravity on {name}: {gravity * 1000} m/s2'''\n",
    "print(template)"
   ]
  },
  {
   "cell_type": "code",
   "execution_count": 64,
   "metadata": {},
   "outputs": [
    {
     "name": "stdout",
     "output_type": "stream",
     "text": [
      "Gravity Facts About Moon\n",
      "-------------------------------------------------------------------------------\n",
      "Planet Name: Earth\n",
      "Gravity on Moon: 1.6199999999999999 m/s2\n"
     ]
    }
   ],
   "source": [
    "# Finalmente, usa ambas variables para unir el título y los hechos.\n",
    "final_text = f'''{gravity_title.title()}\n",
    "{template}'''\n",
    "print(final_text)"
   ]
  },
  {
   "cell_type": "code",
   "execution_count": 65,
   "metadata": {},
   "outputs": [],
   "source": [
    "# Datos muestra:\n",
    "planet = 'Marte '\n",
    "gravity  = 0.00143\n",
    "name = 'Ganímedes'"
   ]
  },
  {
   "cell_type": "code",
   "execution_count": 66,
   "metadata": {},
   "outputs": [
    {
     "name": "stdout",
     "output_type": "stream",
     "text": [
      "Gravity Facts About Moon\n",
      "-------------------------------------------------------------------------------\n",
      "Planet Name: Earth\n",
      "Gravity on Moon: 1.6199999999999999 m/s2\n"
     ]
    }
   ],
   "source": [
    "# Comprobamos la plantilla\n",
    "print(final_text)"
   ]
  },
  {
   "cell_type": "code",
   "execution_count": 67,
   "metadata": {},
   "outputs": [
    {
     "name": "stdout",
     "output_type": "stream",
     "text": [
      "Gravity Facts about Ganímedes\n",
      "-------------------------------------------------------------------------------\n",
      "Planet Name: Marte \n",
      "Gravity on Ganímedes: 0.00143 m/s2 \n"
     ]
    }
   ],
   "source": [
    "# La salida no muestra información sobre Marte. Todavía muestra información sobre la Luna. \n",
    "# Esto sucede porque las cadenas f están ansiosas en su evaluación, por lo que las variables \n",
    "# una vez asignadas no se pueden reasignar. Para evitar este problema, vuelva a hacer la \n",
    "# plantilla para utilizar .format():\n",
    "other_template = \"\"\"Gravity Facts about {name}\n",
    "-------------------------------------------------------------------------------\n",
    "Planet Name: {planet}\n",
    "Gravity on {name}: {gravity} m/s2 \"\"\"\n",
    "print(other_template.format(name=name, planet=planet, gravity=gravity))\n",
    "# Este formato no permite la multiplicación de la gravedad"
   ]
  },
  {
   "cell_type": "code",
   "execution_count": 68,
   "metadata": {},
   "outputs": [
    {
     "name": "stdout",
     "output_type": "stream",
     "text": [
      "Gravity Facts about Ganímedes\n",
      "-------------------------------------------------------------------------------\n",
      "Planet Name: Marte \n",
      "Gravity on Ganímedes: 1.4300000000000002 m/s2 \n"
     ]
    }
   ],
   "source": [
    "# Debido a que .format() no permite expresiones, la gravedad en Ganímedes es incorrecta. \n",
    "# Asegúrese de que la operación se realiza fuera de la plantilla de formato e imprima de nuevo \n",
    "# para ver el resultado de trabajo.\n",
    "print(other_template.format(name=name, planet=planet, gravity=gravity * 1000))"
   ]
  }
 ],
 "metadata": {
  "interpreter": {
   "hash": "8d24f2c3f172076644dc61f5472830a3725c5f8d376295ed6aeed129caa78c63"
  },
  "kernelspec": {
   "display_name": "Python 3.9.10 64-bit (windows store)",
   "language": "python",
   "name": "python3"
  },
  "language_info": {
   "codemirror_mode": {
    "name": "ipython",
    "version": 3
   },
   "file_extension": ".py",
   "mimetype": "text/x-python",
   "name": "python",
   "nbconvert_exporter": "python",
   "pygments_lexer": "ipython3",
   "version": "3.9.10"
  },
  "orig_nbformat": 4
 },
 "nbformat": 4,
 "nbformat_minor": 2
}
