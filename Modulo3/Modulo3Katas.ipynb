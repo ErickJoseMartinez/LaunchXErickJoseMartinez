{
 "cells": [
  {
   "cell_type": "markdown",
   "metadata": {},
   "source": [
    "## Ejercicio - Escribir declaraciones if, else, y elif\n",
    "Problema 1"
   ]
  },
  {
   "cell_type": "code",
   "execution_count": 20,
   "metadata": {},
   "outputs": [
    {
     "name": "stdout",
     "output_type": "stream",
     "text": [
      "Advertencia, el asteroide va muy rápido49\n"
     ]
    }
   ],
   "source": [
    "##MARK.- Este ejercicio valida si la velocidad de un asteroide es mayor a 25 para lanzar una advertencia.\n",
    "##MARK.- Variables\n",
    "velocidad_maxima = 25 ## kilómetros \n",
    "velocidad_asteroide = 49 ## km\n",
    "\n",
    "##MARK.- Se valida que la velocidad del asteroide sea menor que la velocidad maxima|permitida \n",
    "if velocidad_asteroide >= velocidad_maxima:\n",
    "    print('Advertencia, el asteroide va muy rápido' + str(velocidad_asteroide))    \n",
    "else:\n",
    "    print('Todo normal')\n"
   ]
  },
  {
   "cell_type": "markdown",
   "metadata": {},
   "source": [
    "Problema 2"
   ]
  },
  {
   "cell_type": "code",
   "execution_count": 21,
   "metadata": {},
   "outputs": [
    {
     "name": "stdout",
     "output_type": "stream",
     "text": [
      "Hay un asteoride acercandose a alta velocidad mayor que 20 km\n"
     ]
    }
   ],
   "source": [
    "##MARK.- Este ejercicio valida si la velocidad de un asteroide entrante.\n",
    "##MARK.- Variables\n",
    "velocidad_asteroide = 21\n",
    "\n",
    "##MARK.- Se valida la velocidad de entrada\n",
    "if velocidad_asteroide > 20:\n",
    "    print('Hay un asteoride acercandose a alta velocidad mayor que 20 km')\n",
    "elif velocidad_asteroide == 20:\n",
    "    print('Hay un asteoride acercandose a alta velocidad de 20 km')\n",
    "else:\n",
    "    print('Todo normal')"
   ]
  },
  {
   "cell_type": "markdown",
   "metadata": {},
   "source": [
    "Problema 3"
   ]
  },
  {
   "cell_type": "code",
   "execution_count": 22,
   "metadata": {},
   "outputs": [
    {
     "name": "stdout",
     "output_type": "stream",
     "text": [
      "Todo relax, se quemo el asteroide\n"
     ]
    }
   ],
   "source": [
    "##MARK.- Este ejercicio valida un asteroide en factor de velocidad y tamaño potencialmente peligroso.\n",
    "\n",
    "# Agrega el código para crear nuevas variables para la velocidad y el tamaño del asteroide\n",
    "# Para probar el código, prueba con varias velocidades y tamaños\n",
    "# Escribe varias expresiones de prueba o combinaciones de expresiones de prueba para \n",
    "# determinar qué mensaje se debe enviar a Tierra.\n",
    "\n",
    "##MARK.- Variables\n",
    "velocidad_asteroide = 10\n",
    "tamano_asteroide = 1\n",
    "\n",
    "if tamano_asteroide >= 25 and velocidad_asteroide > 25:\n",
    "    print('Cuidado, un asteroide hará pomada la tierra :(')\n",
    "elif velocidad_asteroide >= 20:\n",
    "    print('Hay una asteoride potencialmente peligroso, voltea!!!')\n",
    "else:\n",
    "    print('Todo relax, se quemo el asteroide')\n",
    "\n"
   ]
  }
 ],
 "metadata": {
  "interpreter": {
   "hash": "8d24f2c3f172076644dc61f5472830a3725c5f8d376295ed6aeed129caa78c63"
  },
  "kernelspec": {
   "display_name": "Python 3.9.10 64-bit (windows store)",
   "language": "python",
   "name": "python3"
  },
  "language_info": {
   "codemirror_mode": {
    "name": "ipython",
    "version": 3
   },
   "file_extension": ".py",
   "mimetype": "text/x-python",
   "name": "python",
   "nbconvert_exporter": "python",
   "pygments_lexer": "ipython3",
   "version": "3.9.10"
  },
  "orig_nbformat": 4
 },
 "nbformat": 4,
 "nbformat_minor": 2
}
